{
 "cells": [
  {
   "cell_type": "code",
   "execution_count": null,
   "id": "bce55715",
   "metadata": {},
   "outputs": [],
   "source": [
    "#|hide\n",
    "#|default_exp processors"
   ]
  },
  {
   "cell_type": "markdown",
   "id": "f6b8b4a6",
   "metadata": {},
   "source": [
    "# processors\n",
    "- Some processors for `NBProcessor`"
   ]
  },
  {
   "cell_type": "code",
   "execution_count": null,
   "id": "59172c3d",
   "metadata": {},
   "outputs": [],
   "source": [
    "#|export\n",
    "import ast\n",
    "\n",
    "from nbprocess.read import *\n",
    "from nbprocess.imports import *\n",
    "from nbprocess.process import *\n",
    "\n",
    "from fastcore.imports import *\n",
    "from fastcore.xtras import *"
   ]
  },
  {
   "cell_type": "code",
   "execution_count": null,
   "id": "ce00cb74",
   "metadata": {},
   "outputs": [],
   "source": [
    "#|hide\n",
    "from fastcore.test import *"
   ]
  },
  {
   "cell_type": "markdown",
   "id": "316fccd8",
   "metadata": {},
   "source": [
    "## Helpers"
   ]
  },
  {
   "cell_type": "code",
   "execution_count": null,
   "id": "9d36f27f",
   "metadata": {},
   "outputs": [],
   "source": [
    "#|hide\n",
    "_test_file = '../tests/docs_test.ipynb'"
   ]
  },
  {
   "cell_type": "markdown",
   "id": "9f23622a",
   "metadata": {},
   "source": [
    "On this page we'll be using this private helper to process a notebook and return the results, to simplify testing:"
   ]
  },
  {
   "cell_type": "code",
   "execution_count": null,
   "id": "dfdcb1c3",
   "metadata": {},
   "outputs": [],
   "source": [
    "def _run_procs(procs=None, preprocs=None, postprocs=None):\n",
    "    nbp = NBProcessor(_test_file, procs, preprocs=preprocs, postprocs=postprocs)\n",
    "    nbp.process()\n",
    "    return '\\n'.join([str(cell) for cell in nbp.nb.cells])"
   ]
  },
  {
   "cell_type": "markdown",
   "id": "6ee65c5d",
   "metadata": {},
   "source": [
    "## Cell processors"
   ]
  },
  {
   "cell_type": "code",
   "execution_count": null,
   "id": "84073fa6-5907-41f2-b8b8-568a96112fbd",
   "metadata": {},
   "outputs": [],
   "source": [
    "#|export\n",
    "_re_ansi_escape = re.compile(r'\\x1B(?:[@-Z\\\\-_]|\\[[0-?]*[ -/]*[@-~])')\n",
    "\n",
    "def strip_ansi(cell):\n",
    "    \"Strip Ansi Characters.\"\n",
    "    for outp in cell.get('outputs', []):\n",
    "        if outp.get('name')=='stdout': outp['text'] = [_re_ansi_escape.sub('', o) for o in outp.text]"
   ]
  },
  {
   "cell_type": "markdown",
   "id": "463b9def-91ad-4b05-92c3-e074954e4faf",
   "metadata": {},
   "source": [
    "Gets rid of colors that are streamed from standard out, which can interfere with static site generators:"
   ]
  },
  {
   "cell_type": "code",
   "execution_count": null,
   "id": "fc2bed97",
   "metadata": {},
   "outputs": [],
   "source": [
    "res = _run_procs(strip_ansi)\n",
    "assert not _re_ansi_escape.findall(res)"
   ]
  },
  {
   "cell_type": "code",
   "execution_count": null,
   "id": "995ebd32",
   "metadata": {},
   "outputs": [],
   "source": [
    "#|export\n",
    "def hide_(nbp, cell):\n",
    "    \"Hide cell from output\"\n",
    "    del(cell['source'])"
   ]
  },
  {
   "cell_type": "code",
   "execution_count": null,
   "id": "74cd3876",
   "metadata": {},
   "outputs": [],
   "source": [
    "res = _run_procs(hide_)\n",
    "assert 'you will not be able to see this cell at all either' not in res"
   ]
  },
  {
   "cell_type": "code",
   "execution_count": null,
   "id": "eb415328-044f-44ca-ac77-4f5ae65c2235",
   "metadata": {},
   "outputs": [],
   "source": [
    "#|export\n",
    "_re_hideline = re.compile(r'#\\|\\s*hide_line\\s*$', re.MULTILINE)\n",
    "def hide_line(cell):\n",
    "    \"Hide lines of code in code cells with the directive `hide_line` at the end of a line of code\"\n",
    "    if cell.cell_type == 'code' and _re_hideline.search(cell.source):\n",
    "        cell.source = '\\n'.join([c for c in cell.source.splitlines() if not _re_hideline.search(c)])"
   ]
  },
  {
   "cell_type": "code",
   "execution_count": null,
   "id": "0f670c1d-7eab-4cf5-a4f4-845211379870",
   "metadata": {},
   "outputs": [],
   "source": []
  },
  {
   "cell_type": "code",
   "execution_count": null,
   "id": "20322d06-7adb-4d50-b1d5-b10ec5f5f2ae",
   "metadata": {},
   "outputs": [],
   "source": [
    "res = _run_procs(hide_line)\n",
    "assert r\"def show():\\n    a = 2\\n    b = 3\" not in res\n",
    "assert r\"def show():\\n    a = 2\"                in res"
   ]
  },
  {
   "cell_type": "code",
   "execution_count": null,
   "id": "f8ccf1d7",
   "metadata": {},
   "outputs": [],
   "source": [
    "#|export\n",
    "def filter_stream_(nbp, cell, *words):\n",
    "    \"Remove output lines containing any of `words` in `cell` stream output\"\n",
    "    if not words: return\n",
    "    for outp in cell.get('outputs', []):\n",
    "        if outp.output_type == 'stream':\n",
    "            outp['text'] = [l for l in outp.text if not re.search('|'.join(words), l)]"
   ]
  },
  {
   "cell_type": "code",
   "execution_count": null,
   "id": "96dfdefb-ba07-4ab1-8a23-18e2b27ad707",
   "metadata": {},
   "outputs": [],
   "source": [
    "res = _run_procs(filter_stream_)\n",
    "exp=r\"'A line\\n', 'Another line.\\n'\"\n",
    "assert exp in res"
   ]
  },
  {
   "cell_type": "code",
   "execution_count": null,
   "id": "848fd452-3d63-4c41-aaa6-e14cbeb9fdcd",
   "metadata": {},
   "outputs": [],
   "source": [
    "#|export\n",
    "_magics_pattern = re.compile(r'^\\s*(%%|%).*', re.MULTILINE)\n",
    "\n",
    "def clean_magics(cell):\n",
    "    \"A preprocessor to remove cell magic commands\"\n",
    "    if cell.cell_type == 'code': cell.source = _magics_pattern.sub('', cell.source).strip()"
   ]
  },
  {
   "cell_type": "code",
   "execution_count": null,
   "id": "6acf27ec",
   "metadata": {},
   "outputs": [],
   "source": [
    "res = _run_procs(clean_magics)\n",
    "assert \"%%\" not in res"
   ]
  },
  {
   "cell_type": "code",
   "execution_count": null,
   "id": "97249bda-91dd-42ef-9d36-5efc45fad564",
   "metadata": {},
   "outputs": [],
   "source": [
    "#|export\n",
    "_langs = 'bash|html|javascript|js|latex|markdown|perl|ruby|sh|svg'\n",
    "_lang_pattern = re.compile(rf'^\\s*%%\\s*({_langs})\\s*$', flags=re.MULTILINE)\n",
    "\n",
    "def lang_identify(cell):\n",
    "    \"A preprocessor to identify bash/js/etc cells and mark them appropriately\"\n",
    "    if cell.cell_type == 'code':\n",
    "        lang = _lang_pattern.findall(cell.source)\n",
    "        if lang:\n",
    "            lang = lang[0]\n",
    "            if lang=='js': lang='javascript'  # abbrev provided by jupyter\n",
    "            cell.metadata.language = lang"
   ]
  },
  {
   "cell_type": "markdown",
   "id": "36ffc28f-1735-48ac-942a-74c692afa99b",
   "metadata": {},
   "source": [
    "When we issue a shell command in a notebook with `!`, we need to change the code-fence from `python` to `bash` and remove the `!`:"
   ]
  },
  {
   "cell_type": "code",
   "execution_count": null,
   "id": "be9ac553",
   "metadata": {},
   "outputs": [],
   "source": [
    "res = _run_procs(lang_identify)\n",
    "assert \"'language': 'bash'\" in res"
   ]
  },
  {
   "cell_type": "code",
   "execution_count": null,
   "id": "93e27a52",
   "metadata": {},
   "outputs": [],
   "source": [
    "#|export\n",
    "_re_hdr_dash = re.compile(r'^#+\\s+.*\\s+-\\s*$', re.MULTILINE)\n",
    "\n",
    "def rm_header_dash(cell):\n",
    "    \"Remove headings that end with a dash -\"\n",
    "    src = cell.source.strip()\n",
    "    if cell.cell_type == 'markdown' and src.startswith('#') and src.endswith(' -'): del(cell['source'])"
   ]
  },
  {
   "cell_type": "code",
   "execution_count": null,
   "id": "e4a9ac53",
   "metadata": {},
   "outputs": [],
   "source": [
    "res = _run_procs(rm_header_dash)\n",
    "assert 'some words' in res\n",
    "assert 'A heading to Hide' not in res\n",
    "assert 'Yet another heading to hide' not in res"
   ]
  },
  {
   "cell_type": "code",
   "execution_count": null,
   "id": "75faf537",
   "metadata": {},
   "outputs": [],
   "source": [
    "#|export\n",
    "_exp_dirs = {'export','exporti'}\n",
    "_hide_dirs = {*_exp_dirs, 'hide','default_exp'}\n",
    "\n",
    "def rm_export(cell):\n",
    "    \"Remove cells that are exported or hidden\"\n",
    "    if cell.directives_.keys() & _hide_dirs: del(cell['source'])"
   ]
  },
  {
   "cell_type": "code",
   "execution_count": null,
   "id": "fcb05919",
   "metadata": {},
   "outputs": [],
   "source": [
    "res = _run_procs(rm_export)\n",
    "assert 'dontshow' not in res"
   ]
  },
  {
   "cell_type": "code",
   "execution_count": null,
   "id": "6242d647",
   "metadata": {},
   "outputs": [],
   "source": [
    "#|export\n",
    "_re_exps = re.compile(r'^\\s*#\\|\\s*(?:export|exporti)').search\n",
    "\n",
    "def _show_docs(trees):\n",
    "    return [t for t in trees if isinstance(t,ast.Expr) and nested_attr(t, 'value.func.id')=='show_doc']"
   ]
  },
  {
   "cell_type": "code",
   "execution_count": null,
   "id": "3daa515b",
   "metadata": {},
   "outputs": [],
   "source": [
    "#|export\n",
    "_imps = {ast.Import, ast.ImportFrom}\n",
    "\n",
    "def _do_eval(cell):\n",
    "    trees = cell.parsed_()\n",
    "    if cell.cell_type != 'code' or not trees: return False\n",
    "    if cell.directives_.keys() & _exp_dirs or filter_ex(trees, risinstance(_imps)): return True\n",
    "    if _show_docs(trees): return True\n",
    "    return False"
   ]
  },
  {
   "cell_type": "code",
   "execution_count": null,
   "id": "f22dac1f",
   "metadata": {},
   "outputs": [],
   "source": [
    "#|export\n",
    "class exec_show_docs:\n",
    "    \"Execute cells needed for `show_docs` output, including exported cells and imports\"\n",
    "    def __init__(self):\n",
    "        self.k = NBRunner()\n",
    "        self.k('from nbprocess.showdoc import show_doc')\n",
    "\n",
    "    def __call__(self, cell):\n",
    "        if not _do_eval(cell): return\n",
    "        self.k.run(cell)"
   ]
  },
  {
   "cell_type": "code",
   "execution_count": null,
   "id": "143abea2",
   "metadata": {},
   "outputs": [],
   "source": [
    "res = _run_procs(exec_show_docs)"
   ]
  },
  {
   "cell_type": "code",
   "execution_count": null,
   "id": "2d9a0a30",
   "metadata": {},
   "outputs": [],
   "source": [
    "#|export\n",
    "_re_showdoc = re.compile(r'^show_doc', re.MULTILINE)\n",
    "def _is_showdoc(cell): return cell['cell_type'] == 'code' and _re_showdoc.search(cell.source)\n",
    "\n",
    "def clean_show_doc(cell):\n",
    "    \"Remove ShowDoc input cells\"\n",
    "    if not _is_showdoc(cell): return\n",
    "    cell.source = '#| echo: false\\n' + cell.source"
   ]
  },
  {
   "cell_type": "code",
   "execution_count": null,
   "id": "f37832e7-17ac-4b5e-a9e8-60881a7a9251",
   "metadata": {},
   "outputs": [
    {
     "data": {
      "text/plain": [
       "True"
      ]
     },
     "execution_count": null,
     "metadata": {},
     "output_type": "execute_result"
    }
   ],
   "source": [
    "'show_doc(another_func)' in res"
   ]
  },
  {
   "cell_type": "markdown",
   "id": "3e207415",
   "metadata": {},
   "source": [
    "## Notebook preprocessors"
   ]
  },
  {
   "cell_type": "code",
   "execution_count": null,
   "id": "a28611a4",
   "metadata": {},
   "outputs": [],
   "source": [
    "#| export\n",
    "def insert_warning(nb):\n",
    "    \"Insert Autogenerated Warning Into Notebook after the first cell.\"\n",
    "    content = \"<!-- WARNING: THIS FILE WAS AUTOGENERATED! DO NOT EDIT! -->\"\n",
    "    nb.cells.insert(1, mk_cell(content, False))"
   ]
  },
  {
   "cell_type": "markdown",
   "id": "fba30307",
   "metadata": {},
   "source": [
    "This preprocessor inserts a warning in the markdown destination that the file is autogenerated.  This warning is inserted in the second cell so we do not interfere with front matter."
   ]
  },
  {
   "cell_type": "code",
   "execution_count": null,
   "id": "bbcf41eb",
   "metadata": {},
   "outputs": [],
   "source": [
    "res = _run_procs(preprocs=[insert_warning])\n",
    "assert \"<!-- WARNING: THIS FILE WAS AUTOGENERATED!\" in res"
   ]
  },
  {
   "cell_type": "code",
   "execution_count": null,
   "id": "d646db6b-a9c7-4f1a-8fe5-6e84da0edfc6",
   "metadata": {},
   "outputs": [],
   "source": [
    "L('foo', None, 'a').filter(lambda x:x == 1)\n",
    "_tstre = re.compile('a')"
   ]
  },
  {
   "cell_type": "code",
   "execution_count": null,
   "id": "a732a5bb-409e-4205-b7b4-6a3ca12fa763",
   "metadata": {},
   "outputs": [],
   "source": [
    "#| export\n",
    "_re_title = re.compile(r'^#\\s+(.*)[\\n\\r](?:^>\\s+(.*))?', flags=re.MULTILINE)\n",
    "_re_fm = re.compile(r'^---.*\\S+.*---', flags=re.DOTALL)\n",
    "\n",
    "def _get_celltyp(nb, cell_type): return nb.cells.filter(lambda c: c.cell_type == cell_type)\n",
    "\n",
    "def get_title(nb): \n",
    "    \"Get the title and description from a notebook from the H1\"\n",
    "    md_cells = _get_celltyp(nb, 'markdown').filter(lambda c: 'source' in c and _re_title.search(c.source))\n",
    "    if md_cells:\n",
    "        cell = md_cells[0]\n",
    "        title,desc=_re_title.match(cell.source).groups()\n",
    "        del(cell['source'])\n",
    "        return title,desc\n",
    "    else: return None,None"
   ]
  },
  {
   "cell_type": "code",
   "execution_count": null,
   "id": "31a353f9-b337-4ee7-b182-2d992f3f7b57",
   "metadata": {},
   "outputs": [],
   "source": [
    "_nb = read_nb(_test_file)\n",
    "test_eq(get_title(_nb), ('a title', 'A description'))\n",
    "test_eq(get_title(read_nb('../tests/minimal.ipynb')), (None, None))"
   ]
  },
  {
   "cell_type": "code",
   "execution_count": null,
   "id": "de4d5fed-3987-496c-97ff-c4f877062e40",
   "metadata": {},
   "outputs": [],
   "source": [
    "#| export\n",
    "def get_fm(nb):\n",
    "    \"Get the frontmatter in the notebook as a raw cell\"\n",
    "    return _get_celltyp(nb, 'raw').filter(lambda c: 'source' in c and _re_fm.search(c.source))"
   ]
  },
  {
   "cell_type": "code",
   "execution_count": null,
   "id": "7903a553-c4a4-4e3b-b8db-64f6347220f7",
   "metadata": {},
   "outputs": [],
   "source": [
    "test_eq(bool(get_fm(_nb)), False)\n",
    "test_eq(bool(get_fm(read_nb('../tests/01_everything.ipynb'))), True)"
   ]
  },
  {
   "cell_type": "code",
   "execution_count": null,
   "id": "f9f98367-df5c-4437-ba72-d32dccba2e2b",
   "metadata": {},
   "outputs": [],
   "source": [
    "#| export\n",
    "def insert_fm(nb):\n",
    "    \"Insert Front Matter If It Doesn't Exist With Title/Description\"\n",
    "    if not get_fm(nb):\n",
    "        title,desc = get_title(nb)\n",
    "        if title:\n",
    "            desc = f'description: \"{desc}\"\\n' if desc else ''\n",
    "            content = f'---\\ntitle: \"{title}\"\\n{desc}---'\n",
    "            nb.cells.insert(0, NbCell(0, dict(cell_type='raw', metadata={}, source=content)))"
   ]
  },
  {
   "cell_type": "code",
   "execution_count": null,
   "id": "3a948486-0701-4731-be25-e48c7879908b",
   "metadata": {},
   "outputs": [],
   "source": [
    "_raw_res = _run_procs()\n",
    "_res = _run_procs(postprocs=[insert_fm])\n",
    "assert r'---\\ntitle: \"a title\"\\ndescription: \"A description\"\\n---' in _res\n",
    "assert '# a title' in _raw_res and '# a title' not in _res"
   ]
  },
  {
   "cell_type": "code",
   "execution_count": null,
   "id": "3a107426",
   "metadata": {},
   "outputs": [],
   "source": [
    "#|export\n",
    "_def_types = (ast.FunctionDef,ast.AsyncFunctionDef,ast.ClassDef)\n",
    "def _def_names(cell, shown):\n",
    "    return [o.name for o in concat(cell.parsed_()) if isinstance(o,_def_types) and o.name not in shown and o.name[0]!='_']"
   ]
  },
  {
   "cell_type": "code",
   "execution_count": null,
   "id": "788a5dd5",
   "metadata": {},
   "outputs": [],
   "source": [
    "#|export\n",
    "def add_show_docs(nb):\n",
    "    \"Add show_doc cells after exported cells, unless they are already documented\"\n",
    "    exports = L(cell for cell in nb.cells if _re_exps(cell.source))\n",
    "    trees = nb.cells.map(NbCell.parsed_).concat()\n",
    "    shown_docs = {t.value.args[0].id for t in _show_docs(trees)}\n",
    "    for cell in reversed(exports):\n",
    "        for nm in _def_names(cell, shown_docs):\n",
    "            code = f'show_doc({nm})'\n",
    "            nb.cells.insert(cell.idx_+1, mk_cell(code))"
   ]
  },
  {
   "cell_type": "code",
   "execution_count": null,
   "id": "cb4053fb",
   "metadata": {},
   "outputs": [],
   "source": [
    "res = _run_procs(preprocs=add_show_docs)\n",
    "assert \"show_doc(some_func)'\" in res\n",
    "assert \"show_doc(and_another)'\" in res\n",
    "assert \"show_doc(another_func)'\" not in res"
   ]
  },
  {
   "cell_type": "markdown",
   "id": "4af909f4",
   "metadata": {},
   "source": [
    "## Export -"
   ]
  },
  {
   "cell_type": "code",
   "execution_count": null,
   "id": "079a05ac",
   "metadata": {},
   "outputs": [],
   "source": [
    "#|skip\n",
    "from nbprocess.export import nbs_export\n",
    "nbs_export()"
   ]
  }
 ],
 "metadata": {
  "kernelspec": {
   "display_name": "Python 3 (ipykernel)",
   "language": "python",
   "name": "python3"
  }
 },
 "nbformat": 4,
 "nbformat_minor": 5
}
