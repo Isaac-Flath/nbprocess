{
 "cells": [
  {
   "cell_type": "code",
   "execution_count": 1,
   "metadata": {},
   "outputs": [],
   "source": [
    "#hide\n",
    "#default_exp read"
   ]
  },
  {
   "cell_type": "markdown",
   "metadata": {},
   "source": [
    "# nbprocess.read\n",
    "- Reading a notebook, and initial bootstrapping for notebook exporting"
   ]
  },
  {
   "cell_type": "code",
   "execution_count": 26,
   "metadata": {},
   "outputs": [],
   "source": [
    "#export\n",
    "from datetime import datetime\n",
    "from fastcore.imports import *\n",
    "from fastcore.foundation import *\n",
    "from fastcore.utils import *\n",
    "from fastcore.test import *\n",
    "from fastcore.script import *\n",
    "from fastcore.xtras import *\n",
    "import ast,functools"
   ]
  },
  {
   "cell_type": "code",
   "execution_count": 27,
   "metadata": {},
   "outputs": [],
   "source": [
    "import time,nbclient,tempfile\n",
    "from IPython.display import Markdown\n",
    "from pprint import pformat,pprint"
   ]
  },
  {
   "cell_type": "markdown",
   "metadata": {},
   "source": [
    "## Reading and executing notebooks"
   ]
  },
  {
   "cell_type": "markdown",
   "metadata": {},
   "source": [
    "A notebook is just a json file:"
   ]
  },
  {
   "cell_type": "code",
   "execution_count": 31,
   "metadata": {},
   "outputs": [
    {
     "data": {
      "text/markdown": [
       "```json\n",
       "{ 'cells': [ { 'cell_type': 'markdown',\n",
       "               'metadata': {},\n",
       "               'source': ['# A minimal notebook']},\n",
       "             { 'cell_type': 'code',\n",
       "               'execution_count': 1,\n",
       "               'metadata': {},\n",
       "               'outputs': [ { 'data': {'text/plain': ['2']},\n",
       "                              'execution_count': 1,\n",
       "                              'metadata': {},\n",
       "                              'output_type': 'execute_result'}],\n",
       "               'source': ['# Do some arithmetic\\n', '1+1']},\n",
       "             { 'cell_type': 'code',\n",
       "               'execution_count': None,\n",
       "               'metadata': {},\n",
       "               'outputs': [],\n",
       "               'source': []}],\n",
       "  'metadata': { 'kernelspec': { 'display_name': 'Python 3 (ipykernel)',\n",
       "                                'language': 'python',\n",
       "                                'name': 'python3'},\n",
       "                'language_info': { 'codemirror_mode': { 'name': 'ipython',\n",
       "                                                        'version': 3},\n",
       "                                   'file_extension': '.py',\n",
       "                                   'mimetype': 'text/x-python',\n",
       "                                   'name': 'python',\n",
       "                                   'nbconvert_exporter': 'python',\n",
       "                                   'pygments_lexer': 'ipython3',\n",
       "                                   'version': '3.9.5'}},\n",
       "  'nbformat': 4,\n",
       "  'nbformat_minor': 4}\n",
       "```"
      ],
      "text/plain": [
       "{'cells': [{'cell_type': 'markdown',\n",
       "   'metadata': {},\n",
       "   'source': ['# A minimal notebook']},\n",
       "  {'cell_type': 'code',\n",
       "   'execution_count': 1,\n",
       "   'metadata': {},\n",
       "   'outputs': [{'data': {'text/plain': ['2']},\n",
       "     'execution_count': 1,\n",
       "     'metadata': {},\n",
       "     'output_type': 'execute_result'}],\n",
       "   'source': ['# Do some arithmetic\\n', '1+1']},\n",
       "  {'cell_type': 'code',\n",
       "   'execution_count': None,\n",
       "   'metadata': {},\n",
       "   'outputs': [],\n",
       "   'source': []}],\n",
       " 'metadata': {'kernelspec': {'display_name': 'Python 3 (ipykernel)',\n",
       "   'language': 'python',\n",
       "   'name': 'python3'},\n",
       "  'language_info': {'codemirror_mode': {'name': 'ipython', 'version': 3},\n",
       "   'file_extension': '.py',\n",
       "   'mimetype': 'text/x-python',\n",
       "   'name': 'python',\n",
       "   'nbconvert_exporter': 'python',\n",
       "   'pygments_lexer': 'ipython3',\n",
       "   'version': '3.9.5'}},\n",
       " 'nbformat': 4,\n",
       " 'nbformat_minor': 4}"
      ]
     },
     "execution_count": 31,
     "metadata": {},
     "output_type": "execute_result"
    }
   ],
   "source": [
    "minimal_fn = Path('../tests/minimal.ipynb')\n",
    "minimal_txt = minimal_fn.read_json()\n",
    "AttrDict(minimal_txt)"
   ]
  },
  {
   "cell_type": "markdown",
   "metadata": {},
   "source": [
    "The important bit for us is the `cells`:"
   ]
  },
  {
   "cell_type": "code",
   "execution_count": 33,
   "metadata": {},
   "outputs": [
    {
     "data": {
      "text/plain": [
       "[{'cell_type': 'markdown', 'metadata': {}, 'source': ['# A minimal notebook']},\n",
       " {'cell_type': 'code',\n",
       "  'execution_count': 1,\n",
       "  'metadata': {},\n",
       "  'outputs': [{'data': {'text/plain': ['2']},\n",
       "    'execution_count': 1,\n",
       "    'metadata': {},\n",
       "    'output_type': 'execute_result'}],\n",
       "  'source': ['# Do some arithmetic\\n', '1+1']},\n",
       " {'cell_type': 'code',\n",
       "  'execution_count': None,\n",
       "  'metadata': {},\n",
       "  'outputs': [],\n",
       "  'source': []}]"
      ]
     },
     "execution_count": 33,
     "metadata": {},
     "output_type": "execute_result"
    }
   ],
   "source": [
    "minimal_txt['cells']"
   ]
  },
  {
   "cell_type": "markdown",
   "metadata": {},
   "source": [
    "The second cell here is a `code` cell, however it contains no outputs, because it hasn't been executed yet. To execute a notebook, we first need to convert it into a format suitable for `nbclient` (which expects some `dict` keys to be available as attrs, and some available as regular `dict` keys). Normally, `nbformat` is used for this step, but it's rather slow and inflexible, so we'll write our own function based on `fastcore`'s handy `dict2obj`, which makes all keys available as both attrs *and* keys."
   ]
  },
  {
   "cell_type": "code",
   "execution_count": 34,
   "metadata": {},
   "outputs": [],
   "source": [
    "#export\n",
    "class NbCell(AttrDict):\n",
    "    def __init__(self, idx, cell):\n",
    "        super().__init__(cell)\n",
    "        self.idx_ = idx\n",
    "        if 'source' in self: self.set_source(self.source)\n",
    "\n",
    "    def set_source(self, source):\n",
    "        self.source = ''.join(source)\n",
    "        if '_parsed_' in self: del(self['_parsed_'])\n",
    "\n",
    "    def parsed_(self):\n",
    "        if self.cell_type!='code' or self.source[:1]=='%': return\n",
    "        if '_parsed_' not in self: self._parsed_ = ast.parse(self.source).body\n",
    "        return self._parsed_\n",
    "\n",
    "    def __hash__(self): return hash(self.source) + hash(self.cell_type)\n",
    "    def __eq__(self,o): return self.source==o.source and self.cell_type==o.cell_type"
   ]
  },
  {
   "cell_type": "markdown",
   "metadata": {},
   "source": [
    "We use an `AttrDict` subclass which has some basic functionality for accessing notebook cells."
   ]
  },
  {
   "cell_type": "code",
   "execution_count": 35,
   "metadata": {},
   "outputs": [],
   "source": [
    "#export\n",
    "def dict2nb(js):\n",
    "    \"Convert dict `js` to an `AttrDict`, \"\n",
    "    nb = dict2obj(js)\n",
    "    nb.cells = nb.cells.enumerate().starmap(NbCell)\n",
    "    return nb"
   ]
  },
  {
   "cell_type": "markdown",
   "metadata": {},
   "source": [
    "We can now convert our JSON into this `nbclient`-compatible format..."
   ]
  },
  {
   "cell_type": "code",
   "execution_count": 42,
   "metadata": {},
   "outputs": [],
   "source": [
    "minimal = dict2nb(minimal_txt)"
   ]
  },
  {
   "cell_type": "markdown",
   "metadata": {},
   "source": [
    "...and execute it:"
   ]
  },
  {
   "cell_type": "code",
   "execution_count": 43,
   "metadata": {},
   "outputs": [],
   "source": [
    "nbclient.execute(minimal);"
   ]
  },
  {
   "cell_type": "markdown",
   "metadata": {},
   "source": [
    "One nice feature of the output of `dict2nb` is that we can still use it as a `dict`. We can see that the cell has been executed, and the output added back to the `nb`:"
   ]
  },
  {
   "cell_type": "code",
   "execution_count": 44,
   "metadata": {},
   "outputs": [
    {
     "data": {
      "text/markdown": [
       "```json\n",
       "{ 'cell_type': 'code',\n",
       "  'execution_count': 1,\n",
       "  'idx_': 1,\n",
       "  'metadata': { 'execution': { 'iopub.execute_input': '2022-04-08T19:43:57.228682Z',\n",
       "                               'iopub.status.busy': '2022-04-08T19:43:57.227782Z',\n",
       "                               'iopub.status.idle': '2022-04-08T19:43:57.240462Z',\n",
       "                               'shell.execute_reply': '2022-04-08T19:43:57.241007Z'}},\n",
       "  'outputs': [ { 'data': {'text/plain': '2'},\n",
       "                 'execution_count': 1,\n",
       "                 'metadata': {},\n",
       "                 'output_type': 'execute_result'}],\n",
       "  'source': '# Do some arithmetic\\n1+1'}\n",
       "```"
      ],
      "text/plain": [
       "{'cell_type': 'code',\n",
       " 'execution_count': 1,\n",
       " 'metadata': {'execution': {'iopub.status.busy': '2022-04-08T19:43:57.227782Z',\n",
       "   'iopub.execute_input': '2022-04-08T19:43:57.228682Z',\n",
       "   'iopub.status.idle': '2022-04-08T19:43:57.240462Z',\n",
       "   'shell.execute_reply': '2022-04-08T19:43:57.241007Z'}},\n",
       " 'outputs': [{'output_type': 'execute_result',\n",
       "   'metadata': {},\n",
       "   'data': {'text/plain': '2'},\n",
       "   'execution_count': 1}],\n",
       " 'source': '# Do some arithmetic\\n1+1',\n",
       " 'idx_': 1}"
      ]
     },
     "execution_count": 44,
     "metadata": {},
     "output_type": "execute_result"
    }
   ],
   "source": [
    "cell = minimal.cells[1]\n",
    "cell"
   ]
  },
  {
   "cell_type": "code",
   "execution_count": 45,
   "metadata": {},
   "outputs": [
    {
     "data": {
      "text/plain": [
       "[{'output_type': 'execute_result',\n",
       "  'metadata': {},\n",
       "  'data': {'text/plain': '2'},\n",
       "  'execution_count': 1}]"
      ]
     },
     "execution_count": 45,
     "metadata": {},
     "output_type": "execute_result"
    }
   ],
   "source": [
    "cell.outputs"
   ]
  },
  {
   "cell_type": "markdown",
   "metadata": {},
   "source": [
    "The abstract syntax tree of source code cells is available in the `parsed_` property:"
   ]
  },
  {
   "cell_type": "code",
   "execution_count": 46,
   "metadata": {},
   "outputs": [
    {
     "data": {
      "text/plain": [
       "[<ast.Expr at 0x7fa2f2833700>]"
      ]
     },
     "execution_count": 46,
     "metadata": {},
     "output_type": "execute_result"
    }
   ],
   "source": [
    "cell.parsed_()"
   ]
  },
  {
   "cell_type": "code",
   "execution_count": 47,
   "metadata": {},
   "outputs": [
    {
     "data": {
      "text/plain": [
       "<ast.Add at 0x7fa2f028e610>"
      ]
     },
     "execution_count": 47,
     "metadata": {},
     "output_type": "execute_result"
    }
   ],
   "source": [
    "cell.parsed_()[0].value.op"
   ]
  },
  {
   "cell_type": "markdown",
   "metadata": {},
   "source": [
    "Since loading JSON and converting to an NB is something we'll do a lot, we'll create a shortcut function for it:"
   ]
  },
  {
   "cell_type": "code",
   "execution_count": 48,
   "metadata": {},
   "outputs": [],
   "source": [
    "#export\n",
    "def read_nb(path):\n",
    "    \"Return notebook at `path`\"\n",
    "    return dict2nb(Path(path).read_json())"
   ]
  },
  {
   "cell_type": "code",
   "execution_count": 49,
   "metadata": {},
   "outputs": [
    {
     "data": {
      "text/markdown": [
       "```json\n",
       "{ 'cell_type': 'markdown',\n",
       "  'idx_': 0,\n",
       "  'metadata': {},\n",
       "  'source': '# A minimal notebook'}\n",
       "```"
      ],
      "text/plain": [
       "{'cell_type': 'markdown',\n",
       " 'metadata': {},\n",
       " 'source': '# A minimal notebook',\n",
       " 'idx_': 0}"
      ]
     },
     "execution_count": 49,
     "metadata": {},
     "output_type": "execute_result"
    }
   ],
   "source": [
    "minimal = read_nb(minimal_fn)\n",
    "minimal.cells[0]"
   ]
  },
  {
   "cell_type": "markdown",
   "metadata": {},
   "source": [
    "## Config"
   ]
  },
  {
   "cell_type": "markdown",
   "metadata": {},
   "source": [
    "nbprocess uses a `settings.ini` file in the root of the project to store all configuration details. This file is in `ConfigParser` format, and can be read and written conveniently using fastcore's `Config` class."
   ]
  },
  {
   "cell_type": "code",
   "execution_count": 50,
   "metadata": {},
   "outputs": [],
   "source": [
    "#export\n",
    "@call_parse\n",
    "def nbprocess_create_config(\n",
    "    user:str, # Repo username\n",
    "    lib_name:str=None, # Name of library\n",
    "    description='TODO fill me in', # Description for pypi\n",
    "    author='TODO fill me in', # Author for pypi\n",
    "    author_email='todo@example.org', # Email for pypi\n",
    "    path:str='.', # Path to create config file\n",
    "    cfg_name:str='settings.ini', # Name of config file to create\n",
    "    branch:str='master', # Repo branch\n",
    "    host:str='github', # Repo hostname\n",
    "    git_url:str=\"https://github.com/%(user)s/%(lib_name)s/tree/%(branch)s/\", # Repo URL\n",
    "    custom_sidebar:bool_arg=False, # Create custom sidebar?\n",
    "    nbs_path:str='.', # Name of folder containing notebooks\n",
    "    lib_path:str='%(lib_name)s', # Folder name of root module\n",
    "    doc_path:str='docs', # Folder name containing docs\n",
    "    tst_flags:str='', # Test flags\n",
    "    version:str='0.0.1', # Version number\n",
    "    keywords='python', # Keywords for pypi\n",
    "    license='apache2', # License for pypi\n",
    "    copyright='', # Copyright for pypi, defaults to author from current year\n",
    "    status='3', # Status for pypi\n",
    "    min_python='3.6', # Minimum python version for pypi\n",
    "    audience='Developers', # Audience for pypi\n",
    "    language='English' # Language for pypi\n",
    "):\n",
    "    \"Creates a new config file for `lib_name` and `user` and saves it.\"\n",
    "    if lib_name is None:\n",
    "        parent = Path.cwd().parent\n",
    "        lib_name = parent.parent.name if parent.name=='nbs' else parent.name\n",
    "    if not copyright: copyright = f'{datetime.now().year} ownwards, {author}'\n",
    "    g = locals()\n",
    "    config = {o:g[o] for o in 'host lib_name user branch nbs_path doc_path \\\n",
    "        description author author_email keywords license tst_flags version custom_sidebar \\\n",
    "        copyright status min_python audience language git_url lib_path'.split()}\n",
    "    save_config_file(Path(path)/cfg_name, config)"
   ]
  },
  {
   "cell_type": "markdown",
   "metadata": {},
   "source": [
    "This is a wrapper for `fastcore`'s `save_config_file` which sets some `nbprocess` defaults. It is also installed as a CLI command."
   ]
  },
  {
   "cell_type": "code",
   "execution_count": 51,
   "metadata": {},
   "outputs": [],
   "source": [
    "#export\n",
    "@functools.lru_cache(maxsize=None)\n",
    "def get_config(cfg_name='settings.ini', path=None):\n",
    "    \"`Config` for ini file found in `path` (defaults to `cwd`)\"\n",
    "    cfg_path = Path.cwd() if path is None else path\n",
    "    while cfg_path != cfg_path.parent and not (cfg_path/cfg_name).exists(): cfg_path = cfg_path.parent\n",
    "    return Config(cfg_path, cfg_name=cfg_name)"
   ]
  },
  {
   "cell_type": "markdown",
   "metadata": {},
   "source": [
    "`get_config` searches for `settings.ini` in the current directory, and then in all parent directories, stopping when it is found."
   ]
  },
  {
   "cell_type": "code",
   "execution_count": 52,
   "metadata": {},
   "outputs": [],
   "source": [
    "nbprocess_create_config('fastai', path='..', nbs_path='nbs', tst_flags='tst', cfg_name='test_settings.ini')\n",
    "cfg = get_config('test_settings.ini')\n",
    "test_eq(cfg.lib_name, 'nbprocess')\n",
    "test_eq(cfg.git_url, \"https://github.com/fastai/nbprocess/tree/master/\")\n",
    "cwd = Path.cwd()\n",
    "test_eq(cfg.config_path, cwd.parent.absolute())\n",
    "test_eq(cfg.path('lib_path'), cwd.parent/'nbprocess')\n",
    "test_eq(cfg.path('nbs_path'), cwd)\n",
    "test_eq(cfg.path('doc_path'), cwd.parent/'docs')"
   ]
  },
  {
   "cell_type": "markdown",
   "metadata": {},
   "source": [
    "##  Exporting a basic module"
   ]
  },
  {
   "cell_type": "code",
   "execution_count": 53,
   "metadata": {},
   "outputs": [],
   "source": [
    "#export\n",
    "_init = '__init__.py'\n",
    "\n",
    "def _has_py(fs): return any(1 for f in fs if f.endswith('.py'))\n",
    "\n",
    "def add_init(path):\n",
    "    \"Add `__init__.py` in all subdirs of `path` containing python files if it's not there already\"\n",
    "    # we add the lowest-level `__init__.py` files first, which ensures _has_py succeeds for parent modules\n",
    "    path = Path(path)\n",
    "    path.mkdir(exist_ok=True)\n",
    "    if not (path/_init).exists(): (path/_init).touch()\n",
    "    for r,ds,fs in os.walk(path, topdown=False):\n",
    "        r = Path(r)\n",
    "        subds = (os.listdir(r/d) for d in ds)\n",
    "        if _has_py(fs) or any(filter(_has_py, subds)) and not (r/_init).exists(): (r/_init).touch()"
   ]
  },
  {
   "cell_type": "markdown",
   "metadata": {},
   "source": [
    "Python modules require a `__init.py__` file in all directories that are modules. We assume that all directories containing a python file (including in subdirectories of any depth) is a module, and therefore add a `__init__.py` to each."
   ]
  },
  {
   "cell_type": "code",
   "execution_count": 54,
   "metadata": {},
   "outputs": [],
   "source": [
    "with tempfile.TemporaryDirectory() as d:\n",
    "    d = Path(d)\n",
    "    (d/'a/b').mkdir(parents=True)\n",
    "    (d/'a/b/f.py').touch()\n",
    "    (d/'a/c').mkdir()\n",
    "    add_init(d)\n",
    "    assert not (d/'a/c'/_init).exists(), \"Should not add init to dir without py file\"\n",
    "    for e in [d, d/'a', d/'a/b']: assert (e/_init).exists(),f\"Missing init in {e}\""
   ]
  },
  {
   "cell_type": "markdown",
   "metadata": {},
   "source": [
    "## Export -"
   ]
  },
  {
   "cell_type": "code",
   "execution_count": 55,
   "metadata": {},
   "outputs": [],
   "source": [
    "#export\n",
    "def write_cells(cells, hdr, file, offset=0):\n",
    "    \"Write `cells` to `file` along with header `hdr` starting at index `offset` (mainly for nbprocess internal use)\"\n",
    "    for cell in cells:\n",
    "        if cell.source.strip(): file.write(f'\\n\\n{hdr} {cell.idx_+offset}\\n{cell.source}')"
   ]
  },
  {
   "cell_type": "code",
   "execution_count": 56,
   "metadata": {},
   "outputs": [],
   "source": [
    "#export\n",
    "def basic_export_nb(fname, name, dest=None):\n",
    "    \"Basic exporter to bootstrap nbprocess\"\n",
    "    if dest is None: dest = get_config().path('lib_path')\n",
    "    fname,dest = Path(fname),Path(dest)\n",
    "    nb = read_nb(fname)\n",
    "\n",
    "    # grab the source from all the cells that have an `export` comment\n",
    "    cells = L(cell for cell in nb.cells if re.match(r'#\\s*export', cell.source))\n",
    "\n",
    "    # find all the exported functions, to create `__all__`:\n",
    "    trees = cells.map(NbCell.parsed_).concat()\n",
    "    funcs = trees.filter(risinstance((ast.FunctionDef,ast.ClassDef))).attrgot('name')\n",
    "    exp_funcs = [f for f in funcs if f[0]!='_']\n",
    "    \n",
    "    # write out the file\n",
    "    with (dest/name).open('w') as f:\n",
    "        f.write(f\"# %% auto 0\\n__all__ = {exp_funcs}\")\n",
    "        write_cells(cells, f\"# %% {fname.relpath(dest)}\", f)\n",
    "        f.write('\\n')"
   ]
  },
  {
   "cell_type": "markdown",
   "metadata": {},
   "source": [
    "This is a simple exporter with just enough functionality to correctly export this notebook, in order to bootstrap the creation of nbprocess itself."
   ]
  },
  {
   "cell_type": "code",
   "execution_count": 57,
   "metadata": {},
   "outputs": [],
   "source": [
    "#skip\n",
    "path = Path('../nbprocess')\n",
    "(path/'read.py').unlink(missing_ok=True)\n",
    "\n",
    "add_init(path)\n",
    "basic_export_nb(\"00_read.ipynb\", 'read.py')\n",
    "\n",
    "g = exec_new('from nbprocess import read')\n",
    "assert g['read'].add_init\n",
    "assert 'add_init' in g['read'].__all__"
   ]
  }
 ],
 "metadata": {
  "kernelspec": {
   "display_name": "Python 3 (ipykernel)",
   "language": "python",
   "name": "python3"
  },
  "language_info": {
   "codemirror_mode": {
    "name": "ipython",
    "version": 3
   },
   "file_extension": ".py",
   "mimetype": "text/x-python",
   "name": "python",
   "nbconvert_exporter": "python",
   "pygments_lexer": "ipython3",
   "version": "3.9.7"
  }
 },
 "nbformat": 4,
 "nbformat_minor": 4
}
